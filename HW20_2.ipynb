{
 "cells": [
  {
   "cell_type": "code",
   "execution_count": null,
   "id": "80d34f30",
   "metadata": {},
   "outputs": [],
   "source": [
    "import random\n",
    "from random_words import RandomWords\n",
    "import time\n",
    "import numpy as np\n",
    "\n",
    "\n",
    "def av_sort_time(random_list):\n",
    "\n",
    "    np.array(random_list)\n",
    "    sort_list = []\n",
    "    np.array(sort_list)\n",
    "    sort_list = np.sort(random_list)\n",
    "\n"
   ]
  },
  {
   "cell_type": "code",
   "execution_count": null,
   "id": "b4836495",
   "metadata": {},
   "outputs": [],
   "source": [
    "%%timeit -r 10 -n 1\n",
    "int_list = []\n",
    "for i in range(0, 5000):\n",
    "    int_list.append(random.randint(0, 1000))\n",
    "av_sort_time(int_list)"
   ]
  },
  {
   "cell_type": "code",
   "execution_count": null,
   "id": "6f90665f",
   "metadata": {},
   "outputs": [],
   "source": [
    "%%timeit -r 15 -n 1\n",
    "float_list = []\n",
    "for i in range(0, 5000):\n",
    "    float_list.append(random.uniform(0.1, 100.0))\n",
    "av_sort_time(float_list)"
   ]
  },
  {
   "cell_type": "code",
   "execution_count": null,
   "id": "ab81af53",
   "metadata": {},
   "outputs": [],
   "source": [
    "%%timeit -r 20 -n 1\n",
    "str_list = []\n",
    "w = RandomWords()\n",
    "for i in range(0, 5000):\n",
    "    str_list.append(w.random_word())\n",
    "av_sort_time(str_list)"
   ]
  }
 ],
 "metadata": {
  "kernelspec": {
   "display_name": "Python 3 (ipykernel)",
   "language": "python",
   "name": "python3"
  },
  "language_info": {
   "codemirror_mode": {
    "name": "ipython",
    "version": 3
   },
   "file_extension": ".py",
   "mimetype": "text/x-python",
   "name": "python",
   "nbconvert_exporter": "python",
   "pygments_lexer": "ipython3",
   "version": "3.11.1"
  }
 },
 "nbformat": 4,
 "nbformat_minor": 5
}
